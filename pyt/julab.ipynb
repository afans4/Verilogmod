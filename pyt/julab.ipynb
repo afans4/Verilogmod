{
 "cells": [
  {
   "cell_type": "markdown",
   "source": [
    "## log文件分析\r\n",
    "读取指定文件名的log文件，并检索错误信息行，保存进另一个文件\r\n"
   ],
   "metadata": {}
  },
  {
   "cell_type": "code",
   "execution_count": null,
   "source": [
    "filename = \"sim.log\"\r\n"
   ],
   "outputs": [],
   "metadata": {}
  },
  {
   "cell_type": "code",
   "execution_count": null,
   "source": [],
   "outputs": [],
   "metadata": {}
  }
 ],
 "metadata": {
  "orig_nbformat": 4,
  "language_info": {
   "name": "python",
   "version": "3.6.2",
   "mimetype": "text/x-python",
   "codemirror_mode": {
    "name": "ipython",
    "version": 3
   },
   "pygments_lexer": "ipython3",
   "nbconvert_exporter": "python",
   "file_extension": ".py"
  },
  "kernelspec": {
   "name": "python3",
   "display_name": "Python 3.6.2 64-bit ('py3': conda)"
  },
  "interpreter": {
   "hash": "638640d7ea5e2cc87d954e2b943fdd985f7733d46ce44380c0a1e65787017773"
  }
 },
 "nbformat": 4,
 "nbformat_minor": 2
}