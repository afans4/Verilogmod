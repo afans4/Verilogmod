{
 "cells": [
  {
   "cell_type": "markdown",
   "source": [
    "链接：https://www.nowcoder.com/questionTerminal/c6404089eeaa4530b0a259d97e31be6f\r\n",
    "来源：牛客网\r\n",
    "\r\n",
    "有一排商品，每一个商品都有自己的价值，现在需要花一定金额购买这些商品。规则是：如果一个商品的价值比它旁边的一个商品要高，那么这个商品就必须比它旁边的商品花费更多金额。所有的商品至少要进行一次金额购买。假设一次购买花费金额单位为1，最少需要多少金额可以购买所有商品？\r\n",
    "\r\n",
    "现给定一个数组，数组元素表示每个商品的价值。请编写代码输出最少需要花费的金额。\r\n",
    "输入[1,0,2] 输出 5"
   ],
   "metadata": {}
  },
  {
   "cell_type": "code",
   "execution_count": null,
   "source": [
    "# \r\n",
    "# @param array int整型一维数组 \r\n",
    "# @return int整型\r\n",
    "#\r\n",
    "class Solution:\r\n",
    "    def cost(self , array ):\r\n",
    "        co = [1]*len(array)\r\n",
    "        for i in range(len(array)-1):\r\n",
    "            if(array[i] > array[i+1]):\r\n",
    "                co[i] = co[i+1]+1\r\n",
    "        for i in range(1,len(array)):\r\n",
    "            if(array[i] > array[i-1]):\r\n",
    "                co[i] = co[i-1]+1\r\n",
    "        return sum(co)\r\n",
    "    def search(self, nums, target):\r\n",
    "        inda = len(nums)/2"
   ],
   "outputs": [],
   "metadata": {}
  },
  {
   "cell_type": "code",
   "execution_count": null,
   "source": [
    "so = Solution()\r\n",
    "array = [1,2,0]\r\n",
    "odata = so.cost(array)\r\n",
    "print(odata)"
   ],
   "outputs": [],
   "metadata": {}
  },
  {
   "cell_type": "code",
   "execution_count": 10,
   "source": [
    "nums = [-1,0,3,5,9,12,13]\r\n",
    "target = 9\r\n",
    "indmi = 0\r\n",
    "indma = len(nums)-1\r\n",
    "res = -1;\r\n",
    "while indmi <= indma :\r\n",
    "    indme = int((indma-indmi)/2)+indmi\r\n",
    "    if nums[indme] == target:\r\n",
    "        res = indme\r\n",
    "        break\r\n",
    "    elif nums[indme] > target:\r\n",
    "        indma = indme-1\r\n",
    "    else :\r\n",
    "        indmi = indme+1\r\n"
   ],
   "outputs": [],
   "metadata": {}
  },
  {
   "cell_type": "code",
   "execution_count": 11,
   "source": [
    "print(7//3)"
   ],
   "outputs": [
    {
     "output_type": "stream",
     "name": "stdout",
     "text": [
      "2\n"
     ]
    }
   ],
   "metadata": {}
  },
  {
   "cell_type": "code",
   "execution_count": null,
   "source": [],
   "outputs": [],
   "metadata": {}
  }
 ],
 "metadata": {
  "orig_nbformat": 4,
  "language_info": {
   "name": "python",
   "version": "3.6.2",
   "mimetype": "text/x-python",
   "codemirror_mode": {
    "name": "ipython",
    "version": 3
   },
   "pygments_lexer": "ipython3",
   "nbconvert_exporter": "python",
   "file_extension": ".py"
  },
  "kernelspec": {
   "name": "python3",
   "display_name": "Python 3.6.2 64-bit ('py3': conda)"
  },
  "interpreter": {
   "hash": "638640d7ea5e2cc87d954e2b943fdd985f7733d46ce44380c0a1e65787017773"
  }
 },
 "nbformat": 4,
 "nbformat_minor": 2
}