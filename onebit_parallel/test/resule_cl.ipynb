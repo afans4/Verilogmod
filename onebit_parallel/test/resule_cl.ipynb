{
 "cells": [
  {
   "cell_type": "markdown",
   "source": [
    "## log文件处理"
   ],
   "metadata": {}
  },
  {
   "cell_type": "code",
   "execution_count": null,
   "source": [],
   "outputs": [],
   "metadata": {}
  },
  {
   "cell_type": "code",
   "execution_count": 12,
   "source": [
    "f = open('sim.log')\r\n",
    "line = f.readline()\r\n",
    "obje = 'MONITOR'\r\n",
    "outtxt = []\r\n",
    "while line:\r\n",
    "    result = line.upper().find(obje)\r\n",
    "    if result != -1:\r\n",
    "        outtxt.append(line)\r\n",
    "    line=f.readline()\r\n",
    "f.close\r\n",
    "\r\n"
   ],
   "outputs": [
    {
     "output_type": "execute_result",
     "data": {
      "text/plain": [
       "<function TextIOWrapper.close()>"
      ]
     },
     "metadata": {},
     "execution_count": 12
    }
   ],
   "metadata": {}
  },
  {
   "cell_type": "code",
   "execution_count": 14,
   "source": [
    "with open(\"outre.log\",'w') as fout:\r\n",
    "    for i in outtxt:\r\n",
    "        fout.write(i+'\\n')\r\n",
    "fout.close"
   ],
   "outputs": [
    {
     "output_type": "execute_result",
     "data": {
      "text/plain": [
       "<function TextIOWrapper.close()>"
      ]
     },
     "metadata": {},
     "execution_count": 14
    }
   ],
   "metadata": {}
  },
  {
   "cell_type": "code",
   "execution_count": null,
   "source": [],
   "outputs": [],
   "metadata": {}
  }
 ],
 "metadata": {
  "orig_nbformat": 4,
  "language_info": {
   "name": "python",
   "version": "3.7.6",
   "mimetype": "text/x-python",
   "codemirror_mode": {
    "name": "ipython",
    "version": 3
   },
   "pygments_lexer": "ipython3",
   "nbconvert_exporter": "python",
   "file_extension": ".py"
  },
  "kernelspec": {
   "name": "python3",
   "display_name": "Python 3.7.6 64-bit ('base': conda)"
  },
  "interpreter": {
   "hash": "0a01334969666a21a3e069129324d9ae8eae9c5a94b2ff13a0eddb8c720bb4fe"
  }
 },
 "nbformat": 4,
 "nbformat_minor": 2
}