{
    "cells": [
        {
            "cell_type": "markdown",
            "source": [
                "# 滤波器参数整理以及转换\r\n",
                "+ 将MATLAB生成的滤波器参数（科学计数法，1行）转换为普通计数\r\n",
                "+ 并重新排列，排列为32*8的矩阵\r\n",
                "+ 数与数之间用逗号隔开，便于Verilog代码编写输入"
            ],
            "metadata": {}
        },
        {
            "cell_type": "code",
            "execution_count": 1,
            "source": [
                "import os\r\n",
                "import csv\r\n",
                "import re\r\n",
                "from itertools import islice\r\n",
                "from collections import Counter\r\n",
                "import numpy as np"
            ],
            "outputs": [],
            "metadata": {}
        },
        {
            "cell_type": "code",
            "execution_count": 2,
            "source": [
                "\r\n",
                "filename = 'output.txt'\r\n",
                "data = []\r\n",
                "with open(filename) as f:\r\n",
                "    reader = f.readlines()\r\n",
                "    for row in reader:\r\n",
                "        tmp_list = row.split(' ')\r\n",
                "        tmp_list[-1] = tmp_list[-1].replace('\\\\n','')\r\n",
                "        data.append(tmp_list)\r\n",
                "data = data[0]"
            ],
            "outputs": [],
            "metadata": {}
        },
        {
            "cell_type": "code",
            "execution_count": 3,
            "source": [
                "while '' in data:\r\n",
                "    data.remove('')"
            ],
            "outputs": [],
            "metadata": {}
        },
        {
            "cell_type": "code",
            "execution_count": 4,
            "source": [
                "cnt = range(len(data))\r\n",
                "x = []\r\n",
                "for i in cnt:\r\n",
                "    strr = data[i]\r\n",
                "    if ('E' in strr or 'e' in strr):\r\n",
                "        x.append(str(int(float(strr))))\r\n",
                " "
            ],
            "outputs": [],
            "metadata": {}
        },
        {
            "cell_type": "code",
            "execution_count": 5,
            "source": [
                "cnt = range(256)\r\n",
                "with open(\"sj.txt\",\"w\") as f:\r\n",
                "    for i in cnt:\r\n",
                "        f.write(x[i])\r\n",
                "        f.write(',')\r\n",
                "        if ((i+1)%8) == 0:\r\n",
                "            f.write('\\n')"
            ],
            "outputs": [],
            "metadata": {}
        },
        {
            "cell_type": "code",
            "execution_count": null,
            "source": [],
            "outputs": [],
            "metadata": {}
        }
    ],
    "metadata": {
        "orig_nbformat": 4,
        "language_info": {
            "name": "python",
            "version": "3.7.6",
            "mimetype": "text/x-python",
            "codemirror_mode": {
                "name": "ipython",
                "version": 3
            },
            "pygments_lexer": "ipython3",
            "nbconvert_exporter": "python",
            "file_extension": ".py"
        },
        "kernelspec": {
            "name": "python3",
            "display_name": "Python 3.7.6 64-bit ('base': conda)"
        },
        "interpreter": {
            "hash": "0a01334969666a21a3e069129324d9ae8eae9c5a94b2ff13a0eddb8c720bb4fe"
        }
    },
    "nbformat": 4,
    "nbformat_minor": 2
}